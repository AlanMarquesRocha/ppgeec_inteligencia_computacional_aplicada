{
  "cells": [
    {
      "cell_type": "markdown",
      "metadata": {
        "id": "view-in-github",
        "colab_type": "text"
      },
      "source": [
        "<a href=\"https://colab.research.google.com/github/AlanMarquesRocha/t02_ica_rna_mlp_rbf/blob/master/t02_ica_rna_mlp_smote.ipynb\" target=\"_parent\"><img src=\"https://colab.research.google.com/assets/colab-badge.svg\" alt=\"Open In Colab\"/></a>"
      ]
    },
    {
      "cell_type": "markdown",
      "id": "a2961b19",
      "metadata": {
        "id": "a2961b19"
      },
      "source": [
        "\n",
        "### Programa de Pós-Graduação em Engenharia Elétrica e de Computação (PPGEEC)\n",
        "### Ingeligência Computacional Aplicada (ICA)\n",
        "### Trabalho 02 - Redes Neurais Artificiais Perceptron Multicamadas (RNA - MLP) e Redes de Base Radial (RBF)\n",
        "### Base de dados: ``Predict Students' dropout and academic sucess``\n",
        "### Discente: Alan Marques da Rocha (543897)\n",
        "---"
      ]
    },
    {
      "cell_type": "markdown",
      "id": "662ef33a",
      "metadata": {
        "id": "662ef33a"
      },
      "source": [
        "#### O conjunto de dados ``Predict Students' dropout and academic sucess`` contém 4.424 instâncias, 36 atributos e três classes distintas, a saber: ``Dropout``, ``Graduate`` e ``Enrolled``.\n",
        "\n",
        "#### O arquivo está em formato ``.csv`` e pode ser acessado através de um programa de planilhas comum (Excel, calc, Planilhas Google, etc..)\n",
        "\n",
        "#### A base de dados foi dividida em 80% para treino e 20% para teste."
      ]
    },
    {
      "cell_type": "markdown",
      "id": "fe99d28b",
      "metadata": {
        "id": "fe99d28b"
      },
      "source": [
        "# **Implementação da ``Rede Neural Artificial Perceptron de Múltiplas camadas``**"
      ]
    },
    {
      "cell_type": "markdown",
      "id": "2bdf86c9",
      "metadata": {
        "id": "2bdf86c9"
      },
      "source": [
        "### 1ª etapa: Importando as bibliotecas necessárias para a implementação do algoritmo"
      ]
    },
    {
      "cell_type": "code",
      "execution_count": 9,
      "id": "0031cdd2",
      "metadata": {
        "id": "0031cdd2"
      },
      "outputs": [],
      "source": [
        "# importando as bibliotecas de manipulação de dados\n",
        "import pandas as pd\n",
        "from matplotlib import pyplot as plt\n",
        "import numpy as np\n",
        "\n",
        "# bibliotecas para normalização e balanceamento dos dados\n",
        "from sklearn.preprocessing import MaxAbsScaler\n",
        "from sklearn.model_selection import StratifiedKFold\n",
        "from statistics import mean, stdev\n",
        "from sklearn.model_selection import cross_val_score\n",
        "from imblearn.over_sampling import SMOTE\n",
        "from collections import Counter\n",
        "\n",
        "# biblioteca para divisão do dataset em treino/teste\n",
        "from sklearn.model_selection import train_test_split\n",
        "\n",
        "# bibliotecas para a implementação da MLP\n",
        "from sklearn.neural_network import MLPClassifier\n",
        "\n",
        "# bibliotecas para verificação das métricas da MLP\n",
        "from sklearn.metrics import accuracy_score\n",
        "from sklearn.metrics import plot_confusion_matrix\n",
        "from sklearn.metrics import classification_report\n",
        "from sklearn.model_selection import learning_curve\n",
        "from sklearn.model_selection import GridSearchCV"
      ]
    },
    {
      "cell_type": "markdown",
      "id": "9f4a131e",
      "metadata": {
        "id": "9f4a131e"
      },
      "source": [
        "### 2ª etapa: Abertura da base de dados com ``pandas``\n",
        "\n",
        "#### A coluna ``target`` possui as seguintes informações:\n",
        "\n",
        "- Graduate\n",
        "- Enrolled\n",
        "- Dropout\n",
        "\n",
        "#### Houveram as seguintes modificações nas classes:\n",
        "\n",
        "- Graduate = 1\n",
        "- Enrolled = 0\n",
        "- Dropout = -1"
      ]
    },
    {
      "cell_type": "code",
      "source": [
        "from google.colab import drive\n",
        "drive.mount('/content/gdrive')\n",
        "\n",
        "!cp -R /content/gdrive/MyDrive/cursos/ica_ppgeec/t02_ica_rna_mlp_rbf code/"
      ],
      "metadata": {
        "colab": {
          "base_uri": "https://localhost:8080/"
        },
        "id": "rUe_qjCCbJj1",
        "outputId": "067f8f50-6346-4e0f-9d27-0dd164c9339a"
      },
      "id": "rUe_qjCCbJj1",
      "execution_count": 2,
      "outputs": [
        {
          "output_type": "stream",
          "name": "stdout",
          "text": [
            "Mounted at /content/gdrive\n"
          ]
        }
      ]
    },
    {
      "cell_type": "code",
      "execution_count": 3,
      "id": "ec4e21cb",
      "metadata": {
        "scrolled": true,
        "colab": {
          "base_uri": "https://localhost:8080/",
          "height": 289
        },
        "id": "ec4e21cb",
        "outputId": "af8eb6ab-3ce1-4d21-ffad-bea3a3bb6fbc"
      },
      "outputs": [
        {
          "output_type": "execute_result",
          "data": {
            "text/plain": [
              "   Marital status  Application mode  Application order  Course  \\\n",
              "0               1                17                  5     171   \n",
              "1               1                15                  1    9254   \n",
              "2               1                 1                  5    9070   \n",
              "\n",
              "   Daytime/evening attendance\\t  Previous qualification  \\\n",
              "0                             1                       1   \n",
              "1                             1                       1   \n",
              "2                             1                       1   \n",
              "\n",
              "   Previous qualification (grade)  Nacionality  Mother's qualification  \\\n",
              "0                           122.0            1                      19   \n",
              "1                           160.0            1                       1   \n",
              "2                           122.0            1                      37   \n",
              "\n",
              "   Father's qualification  ...  \\\n",
              "0                      12  ...   \n",
              "1                       3  ...   \n",
              "2                      37  ...   \n",
              "\n",
              "   Curricular units 1st sem (without evaluations)  \\\n",
              "0                                               0   \n",
              "1                                               0   \n",
              "2                                               0   \n",
              "\n",
              "   Curricular units 2nd sem (credited)  Curricular units 2nd sem (enrolled)  \\\n",
              "0                                    0                                    0   \n",
              "1                                    0                                    6   \n",
              "2                                    0                                    6   \n",
              "\n",
              "   Curricular units 2nd sem (evaluations)  \\\n",
              "0                                       0   \n",
              "1                                       6   \n",
              "2                                       0   \n",
              "\n",
              "   Curricular units 2nd sem (approved)  \\\n",
              "0                                    0   \n",
              "1                                    6   \n",
              "2                                    0   \n",
              "\n",
              "   Curricular units 2nd sem (without evaluations)  Unemployment rate  \\\n",
              "0                                               0               10.8   \n",
              "1                                               0               13.9   \n",
              "2                                               0               10.8   \n",
              "\n",
              "   Inflation rate   GDP  Target  \n",
              "0             1.4  1.74      -1  \n",
              "1            -0.3  0.79       1  \n",
              "2             1.4  1.74      -1  \n",
              "\n",
              "[3 rows x 35 columns]"
            ],
            "text/html": [
              "\n",
              "  <div id=\"df-c21f6327-8a2d-4684-ac31-0c22ac3737ec\">\n",
              "    <div class=\"colab-df-container\">\n",
              "      <div>\n",
              "<style scoped>\n",
              "    .dataframe tbody tr th:only-of-type {\n",
              "        vertical-align: middle;\n",
              "    }\n",
              "\n",
              "    .dataframe tbody tr th {\n",
              "        vertical-align: top;\n",
              "    }\n",
              "\n",
              "    .dataframe thead th {\n",
              "        text-align: right;\n",
              "    }\n",
              "</style>\n",
              "<table border=\"1\" class=\"dataframe\">\n",
              "  <thead>\n",
              "    <tr style=\"text-align: right;\">\n",
              "      <th></th>\n",
              "      <th>Marital status</th>\n",
              "      <th>Application mode</th>\n",
              "      <th>Application order</th>\n",
              "      <th>Course</th>\n",
              "      <th>Daytime/evening attendance\\t</th>\n",
              "      <th>Previous qualification</th>\n",
              "      <th>Previous qualification (grade)</th>\n",
              "      <th>Nacionality</th>\n",
              "      <th>Mother's qualification</th>\n",
              "      <th>Father's qualification</th>\n",
              "      <th>...</th>\n",
              "      <th>Curricular units 1st sem (without evaluations)</th>\n",
              "      <th>Curricular units 2nd sem (credited)</th>\n",
              "      <th>Curricular units 2nd sem (enrolled)</th>\n",
              "      <th>Curricular units 2nd sem (evaluations)</th>\n",
              "      <th>Curricular units 2nd sem (approved)</th>\n",
              "      <th>Curricular units 2nd sem (without evaluations)</th>\n",
              "      <th>Unemployment rate</th>\n",
              "      <th>Inflation rate</th>\n",
              "      <th>GDP</th>\n",
              "      <th>Target</th>\n",
              "    </tr>\n",
              "  </thead>\n",
              "  <tbody>\n",
              "    <tr>\n",
              "      <th>0</th>\n",
              "      <td>1</td>\n",
              "      <td>17</td>\n",
              "      <td>5</td>\n",
              "      <td>171</td>\n",
              "      <td>1</td>\n",
              "      <td>1</td>\n",
              "      <td>122.0</td>\n",
              "      <td>1</td>\n",
              "      <td>19</td>\n",
              "      <td>12</td>\n",
              "      <td>...</td>\n",
              "      <td>0</td>\n",
              "      <td>0</td>\n",
              "      <td>0</td>\n",
              "      <td>0</td>\n",
              "      <td>0</td>\n",
              "      <td>0</td>\n",
              "      <td>10.8</td>\n",
              "      <td>1.4</td>\n",
              "      <td>1.74</td>\n",
              "      <td>-1</td>\n",
              "    </tr>\n",
              "    <tr>\n",
              "      <th>1</th>\n",
              "      <td>1</td>\n",
              "      <td>15</td>\n",
              "      <td>1</td>\n",
              "      <td>9254</td>\n",
              "      <td>1</td>\n",
              "      <td>1</td>\n",
              "      <td>160.0</td>\n",
              "      <td>1</td>\n",
              "      <td>1</td>\n",
              "      <td>3</td>\n",
              "      <td>...</td>\n",
              "      <td>0</td>\n",
              "      <td>0</td>\n",
              "      <td>6</td>\n",
              "      <td>6</td>\n",
              "      <td>6</td>\n",
              "      <td>0</td>\n",
              "      <td>13.9</td>\n",
              "      <td>-0.3</td>\n",
              "      <td>0.79</td>\n",
              "      <td>1</td>\n",
              "    </tr>\n",
              "    <tr>\n",
              "      <th>2</th>\n",
              "      <td>1</td>\n",
              "      <td>1</td>\n",
              "      <td>5</td>\n",
              "      <td>9070</td>\n",
              "      <td>1</td>\n",
              "      <td>1</td>\n",
              "      <td>122.0</td>\n",
              "      <td>1</td>\n",
              "      <td>37</td>\n",
              "      <td>37</td>\n",
              "      <td>...</td>\n",
              "      <td>0</td>\n",
              "      <td>0</td>\n",
              "      <td>6</td>\n",
              "      <td>0</td>\n",
              "      <td>0</td>\n",
              "      <td>0</td>\n",
              "      <td>10.8</td>\n",
              "      <td>1.4</td>\n",
              "      <td>1.74</td>\n",
              "      <td>-1</td>\n",
              "    </tr>\n",
              "  </tbody>\n",
              "</table>\n",
              "<p>3 rows × 35 columns</p>\n",
              "</div>\n",
              "      <button class=\"colab-df-convert\" onclick=\"convertToInteractive('df-c21f6327-8a2d-4684-ac31-0c22ac3737ec')\"\n",
              "              title=\"Convert this dataframe to an interactive table.\"\n",
              "              style=\"display:none;\">\n",
              "        \n",
              "  <svg xmlns=\"http://www.w3.org/2000/svg\" height=\"24px\"viewBox=\"0 0 24 24\"\n",
              "       width=\"24px\">\n",
              "    <path d=\"M0 0h24v24H0V0z\" fill=\"none\"/>\n",
              "    <path d=\"M18.56 5.44l.94 2.06.94-2.06 2.06-.94-2.06-.94-.94-2.06-.94 2.06-2.06.94zm-11 1L8.5 8.5l.94-2.06 2.06-.94-2.06-.94L8.5 2.5l-.94 2.06-2.06.94zm10 10l.94 2.06.94-2.06 2.06-.94-2.06-.94-.94-2.06-.94 2.06-2.06.94z\"/><path d=\"M17.41 7.96l-1.37-1.37c-.4-.4-.92-.59-1.43-.59-.52 0-1.04.2-1.43.59L10.3 9.45l-7.72 7.72c-.78.78-.78 2.05 0 2.83L4 21.41c.39.39.9.59 1.41.59.51 0 1.02-.2 1.41-.59l7.78-7.78 2.81-2.81c.8-.78.8-2.07 0-2.86zM5.41 20L4 18.59l7.72-7.72 1.47 1.35L5.41 20z\"/>\n",
              "  </svg>\n",
              "      </button>\n",
              "      \n",
              "  <style>\n",
              "    .colab-df-container {\n",
              "      display:flex;\n",
              "      flex-wrap:wrap;\n",
              "      gap: 12px;\n",
              "    }\n",
              "\n",
              "    .colab-df-convert {\n",
              "      background-color: #E8F0FE;\n",
              "      border: none;\n",
              "      border-radius: 50%;\n",
              "      cursor: pointer;\n",
              "      display: none;\n",
              "      fill: #1967D2;\n",
              "      height: 32px;\n",
              "      padding: 0 0 0 0;\n",
              "      width: 32px;\n",
              "    }\n",
              "\n",
              "    .colab-df-convert:hover {\n",
              "      background-color: #E2EBFA;\n",
              "      box-shadow: 0px 1px 2px rgba(60, 64, 67, 0.3), 0px 1px 3px 1px rgba(60, 64, 67, 0.15);\n",
              "      fill: #174EA6;\n",
              "    }\n",
              "\n",
              "    [theme=dark] .colab-df-convert {\n",
              "      background-color: #3B4455;\n",
              "      fill: #D2E3FC;\n",
              "    }\n",
              "\n",
              "    [theme=dark] .colab-df-convert:hover {\n",
              "      background-color: #434B5C;\n",
              "      box-shadow: 0px 1px 3px 1px rgba(0, 0, 0, 0.15);\n",
              "      filter: drop-shadow(0px 1px 2px rgba(0, 0, 0, 0.3));\n",
              "      fill: #FFFFFF;\n",
              "    }\n",
              "  </style>\n",
              "\n",
              "      <script>\n",
              "        const buttonEl =\n",
              "          document.querySelector('#df-c21f6327-8a2d-4684-ac31-0c22ac3737ec button.colab-df-convert');\n",
              "        buttonEl.style.display =\n",
              "          google.colab.kernel.accessAllowed ? 'block' : 'none';\n",
              "\n",
              "        async function convertToInteractive(key) {\n",
              "          const element = document.querySelector('#df-c21f6327-8a2d-4684-ac31-0c22ac3737ec');\n",
              "          const dataTable =\n",
              "            await google.colab.kernel.invokeFunction('convertToInteractive',\n",
              "                                                     [key], {});\n",
              "          if (!dataTable) return;\n",
              "\n",
              "          const docLinkHtml = 'Like what you see? Visit the ' +\n",
              "            '<a target=\"_blank\" href=https://colab.research.google.com/notebooks/data_table.ipynb>data table notebook</a>'\n",
              "            + ' to learn more about interactive tables.';\n",
              "          element.innerHTML = '';\n",
              "          dataTable['output_type'] = 'display_data';\n",
              "          await google.colab.output.renderOutput(dataTable, element);\n",
              "          const docLink = document.createElement('div');\n",
              "          docLink.innerHTML = docLinkHtml;\n",
              "          element.appendChild(docLink);\n",
              "        }\n",
              "      </script>\n",
              "    </div>\n",
              "  </div>\n",
              "  "
            ]
          },
          "metadata": {},
          "execution_count": 3
        }
      ],
      "source": [
        "# Abrindo o arquivo diretamento do diretório:\n",
        "data = pd.read_csv('/content/code/data.csv', sep=';')\n",
        "\n",
        "data.head(3)"
      ]
    },
    {
      "cell_type": "markdown",
      "id": "83481d78",
      "metadata": {
        "id": "83481d78"
      },
      "source": [
        "### **3ª etapa: Pré-Processamento dos Dados:**"
      ]
    },
    {
      "cell_type": "markdown",
      "id": "4d7d9f66",
      "metadata": {
        "id": "4d7d9f66"
      },
      "source": [
        "#### Definindo o conjunto de atributos/instâncias e suas respectivas classes:"
      ]
    },
    {
      "cell_type": "code",
      "execution_count": 4,
      "id": "96297bae",
      "metadata": {
        "id": "96297bae"
      },
      "outputs": [],
      "source": [
        "# definindo os atributos do dataset:\n",
        "X = data.drop(['Target'], axis = 1)\n",
        "\n",
        "# definindo as classes:\n",
        "y = data.Target"
      ]
    },
    {
      "cell_type": "markdown",
      "source": [
        "#### 3.1 Algumas informações do dataset"
      ],
      "metadata": {
        "id": "NJvKbkpkYijd"
      },
      "id": "NJvKbkpkYijd"
    },
    {
      "cell_type": "code",
      "execution_count": 5,
      "id": "d34b2faa",
      "metadata": {
        "colab": {
          "base_uri": "https://localhost:8080/"
        },
        "id": "d34b2faa",
        "outputId": "f8c5ad40-cd7f-4a13-c025-460a5dd6d733"
      },
      "outputs": [
        {
          "output_type": "execute_result",
          "data": {
            "text/plain": [
              " 1    2209\n",
              "-1    1421\n",
              " 0     794\n",
              "Name: Target, dtype: int64"
            ]
          },
          "metadata": {},
          "execution_count": 5
        }
      ],
      "source": [
        "# Informa o n° presente de cada classe no dataset:\n",
        "data['Target'].value_counts()"
      ]
    },
    {
      "cell_type": "code",
      "source": [
        "# Área que plota-se o gráfico e define-se o seu tamanho\n",
        "fig, ax = plt.subplots(figsize=(6, 6), subplot_kw = dict(aspect=\"equal\"))\n",
        "\n",
        "# Informações das classes\n",
        "recipe = [\"Graduate\",\n",
        "          \"Enrolled\",\n",
        "          \"Dropout\"]\n",
        "\n",
        "# Informa-se a quantidade dos dados\n",
        "data_class = [2209, 794, 1421]\n",
        "\n",
        "# Mostra a porcentagem de cada classe no dataset\n",
        "def func(pct, allvals):\n",
        "    # calc %\n",
        "    absolute = int(pct/100.*np.sum(allvals))\n",
        "    # fazendo legenda do gráfico\n",
        "    return \"{:.1f}%\\n({:d})\".format(pct, absolute)\n",
        "\n",
        "# Criando o gráfico e colocando a função da legenda interna\n",
        "wedges, texts, autotexts = ax.pie(data_class, autopct = lambda pct: func(pct, data_class),\n",
        "                                  textprops=dict(color = \"w\"))\n",
        "\n",
        "# Definindo a caixa de legenda externa, título, localização e onde vai 'ancorar o box'\n",
        "ax.legend(wedges, recipe,\n",
        "          title=\"Classes\",\n",
        "          loc=\"center left\",\n",
        "          bbox_to_anchor=(1, 0, 0.5, 1))\n",
        "\n",
        "# Aqui definimos o tamanho do texto de dentro do gráfico, e o peso da fonte como bold\n",
        "plt.setp(autotexts, size=12, weight=\"bold\")\n",
        "\n",
        "# Título do gráfico\n",
        "ax.set_title(\"Divisão das classes no dataset\")\n",
        "\n",
        "# Mostrando o gráfico\n",
        "plt.show()"
      ],
      "metadata": {
        "colab": {
          "base_uri": "https://localhost:8080/",
          "height": 373
        },
        "id": "yn6r_-jJYrwf",
        "outputId": "d873fa34-a71e-4e8c-a4df-99acc7942277"
      },
      "id": "yn6r_-jJYrwf",
      "execution_count": 6,
      "outputs": [
        {
          "output_type": "display_data",
          "data": {
            "text/plain": [
              "<Figure size 432x432 with 1 Axes>"
            ],
            "image/png": "[encoded data removed]"
          },
          "metadata": {}
        }
      ]
    },
    {
      "cell_type": "markdown",
      "source": [
        "####  3.2 Manipulação dos dados para retirada do desequilíbrio das classes com SMOTE (técnica de sobreamostragem minoritária sintética)\n",
        "---\n",
        "\n"
      ],
      "metadata": {
        "id": "grbb4t-CfuBE"
      },
      "id": "grbb4t-CfuBE"
    },
    {
      "cell_type": "code",
      "source": [
        "X_resampled, Y_resampled = SMOTE().fit_resample(X, y)\n",
        "\n",
        "# Mostra a quantidade de cada classee após a retirada do desequilíbrio.\n",
        "print('Classes: ', sorted(Counter(Y_resampled).items()))\n",
        "\n",
        "print('Dimensões do novo dataset: ', X_resampled.shape)"
      ],
      "metadata": {
        "id": "hUAgcBl6fzFW",
        "outputId": "af01e372-378e-4b82-d250-31f25f4aa973",
        "colab": {
          "base_uri": "https://localhost:8080/"
        }
      },
      "id": "hUAgcBl6fzFW",
      "execution_count": 10,
      "outputs": [
        {
          "output_type": "stream",
          "name": "stdout",
          "text": [
            "Classes:  [(-1, 2209), (0, 2209), (1, 2209)]\n",
            "Dimensões do novo dataset:  (6627, 34)\n"
          ]
        }
      ]
    },
    {
      "cell_type": "code",
      "source": [
        "# Mostrando os atributos após a retirada do desequilíbrio.\n",
        "X_resampled.head()\n",
        "\n",
        "# Salvando os atributos balanceados em um novo arquivo csv\n",
        "atrib = X_resampled\n",
        "atrib.to_csv('atrib.csv')\n",
        "\n",
        "# Salvando as classes balanceadas em um novo arquivo csv\n",
        "Y = Y_resampled\n",
        "Y.to_csv('classes.csv')"
      ],
      "metadata": {
        "id": "c_lAwbaZf-OT"
      },
      "id": "c_lAwbaZf-OT",
      "execution_count": 11,
      "outputs": []
    },
    {
      "cell_type": "markdown",
      "source": [
        "##### 3.2.1 Comparação das classes após a aplicação da técnica ``SMOTE``"
      ],
      "metadata": {
        "id": "a0vWL7FWgEPT"
      },
      "id": "a0vWL7FWgEPT"
    },
    {
      "cell_type": "code",
      "source": [
        "# quantidade de classes\n",
        "grupos = 3\n",
        "\n",
        "# valores das classes desquilibradas e equilibradas, respectivamente\n",
        "deseq = (2209, 794, 1421)\n",
        "equi = (2209, 2209, 2209)\n",
        "\n",
        "# configurações do gráfico\n",
        "fig, ax = plt.subplots()\n",
        "indice = np.arange(grupos)\n",
        "bar_larg = 0.2\n",
        "transp = 0.8\n",
        "plt.bar(indice, deseq, bar_larg, alpha = transp, color=\"gray\", label = 'Desquilibrado')\n",
        "plt.bar(indice + bar_larg, equi, bar_larg, alpha = transp, color = \"black\", label = 'Equilibrado')\n",
        "\n",
        "# informações de título, eixo e legendas    \n",
        "plt.xlabel('Classes do dataset') \n",
        "plt.ylabel('Quatidade de instâncias') \n",
        "plt.title('Relação de classes com dataset desequilibrado x equilibrado') \n",
        "plt.xticks(indice + bar_larg, ('Graduate', 'Enrolled', 'Dropout')) \n",
        "plt.legend() \n",
        "plt.tight_layout() \n",
        "plt.show()"
      ],
      "metadata": {
        "id": "BNTZllEYgJ4f",
        "outputId": "f45e0565-c8fa-49d2-fddf-53c244f8b58a",
        "colab": {
          "base_uri": "https://localhost:8080/",
          "height": 297
        }
      },
      "id": "BNTZllEYgJ4f",
      "execution_count": 12,
      "outputs": [
        {
          "output_type": "display_data",
          "data": {
            "text/plain": [
              "<Figure size 432x288 with 1 Axes>"
            ],
            "image/png": "[encoded data removed]"
          },
          "metadata": {
            "needs_background": "light"
          }
        }
      ]
    },
    {
      "cell_type": "markdown",
      "source": [
        "#### 3.3 Realizando a normalização dos dados antes da validação cruzada dos conjuntos de treino/teste:\n",
        "\n",
        "#### Para padronizar os dados no intervalo (-1, 1), foi utilizado o ``MaxAbsScaler``."
      ],
      "metadata": {
        "id": "8QT6ssVYZ-D9"
      },
      "id": "8QT6ssVYZ-D9"
    },
    {
      "cell_type": "code",
      "source": [
        "# Tipo de normalizador de dados.\n",
        "norm = MaxAbsScaler()\n",
        "\n",
        "scaler = norm.fit(X) # Calcula o máximo de cada atributo\n",
        "\n",
        "# Dados dos atributos normalizados\n",
        "X_norm = scaler.transform(X)\n",
        "\n",
        "X_norm"
      ],
      "metadata": {
        "colab": {
          "base_uri": "https://localhost:8080/"
        },
        "id": "2EVsNJqcaCpN",
        "outputId": "a0d9255b-db4c-4164-fff6-24928c526f02"
      },
      "id": "2EVsNJqcaCpN",
      "execution_count": 13,
      "outputs": [
        {
          "output_type": "execute_result",
          "data": {
            "text/plain": [
              "array([[ 0.16666667,  0.29824561,  0.55555556, ...,  0.66666667,\n",
              "         0.37837838,  0.42857143],\n",
              "       [ 0.16666667,  0.26315789,  0.11111111, ...,  0.85802469,\n",
              "        -0.08108108,  0.19458128],\n",
              "       [ 0.16666667,  0.01754386,  0.55555556, ...,  0.66666667,\n",
              "         0.37837838,  0.42857143],\n",
              "       ...,\n",
              "       [ 0.16666667,  0.01754386,  0.11111111, ...,  0.85802469,\n",
              "        -0.08108108,  0.19458128],\n",
              "       [ 0.16666667,  0.01754386,  0.11111111, ...,  0.58024691,\n",
              "        -0.21621622, -0.76847291],\n",
              "       [ 0.16666667,  0.1754386 ,  0.11111111, ...,  0.78395062,\n",
              "         1.        , -0.41871921]])"
            ]
          },
          "metadata": {},
          "execution_count": 13
        }
      ]
    },
    {
      "cell_type": "markdown",
      "id": "0c75a90c",
      "metadata": {
        "id": "0c75a90c"
      },
      "source": [
        "#### 3.4 Criando o conjunto de treinamento e validação com a função ``train_test_split``\n"
      ]
    },
    {
      "cell_type": "code",
      "source": [
        "# Com as classes equilibradas, pode-se utilizar o train_test_split para separar o conjunto de treino e validação\n",
        "x_train_fold, x_test_fold, y_train_fold, y_test_fold = train_test_split(X_norm, y, test_size = 0.2)"
      ],
      "metadata": {
        "id": "5vJM0RLRgbFk"
      },
      "id": "5vJM0RLRgbFk",
      "execution_count": 17,
      "outputs": []
    },
    {
      "cell_type": "markdown",
      "metadata": {
        "id": "Uci2kvgsnkJD"
      },
      "source": [
        "\n",
        "##### 3.4.1 Criando a lista que irá armazenar as acurácias de cada modelo implementado.\n"
      ],
      "id": "Uci2kvgsnkJD"
    },
    {
      "cell_type": "code",
      "source": [
        "# lista que receberá as acurácias de cada modelo proposto.\n",
        "mlp_list_1 = []\n",
        "mlp_list_2 = []\n",
        "mlp_list_3 = []"
      ],
      "metadata": {
        "id": "O8JCP7T-lCIV"
      },
      "id": "O8JCP7T-lCIV",
      "execution_count": 20,
      "outputs": []
    },
    {
      "cell_type": "markdown",
      "id": "10f13196",
      "metadata": {
        "id": "10f13196"
      },
      "source": [
        "### 4. Construindo a RNA-MLP:\n",
        "\n",
        "#### 4.1 Características da RNA MLP:\n",
        "\n",
        "- ``hidden_layer_sizes`` = n° de camadas ocultas (tupla)\n",
        "- ``tol`` = tolerância de convergência do algoritmo\n",
        "- ``learning_rate_init`` = taxa de aprendizagem\n",
        "- ``solver`` = O solucionador para otimização de peso (Ex: 'lbfgs', 'sgd', 'adam'), default='adam')\n",
        "- ``activation`` = Função de ativação para a camada oculta (Ex: ‘identity’, ‘logistic’, ‘tanh’, ‘relu’), default=’relu’\n",
        "- ``learning_rate`` = Cronograma de taxa de aprendizado para atualizações de peso (Ex: 'constant', 'invscaling', 'adaptive') default='constant'"
      ]
    },
    {
      "cell_type": "code",
      "source": [
        "\n",
        "# 1ª topologia utilizando a função de ativação ReLU.\n",
        "model_1 = MLPClassifier(hidden_layer_sizes=(40,20), max_iter = 1000, activation = 'relu', solver = 'adam', tol = 0.0000001, random_state = 3);\n",
        "\n",
        "# 2ª topologia utilizando a função de ativação tanh (tangente hiperbólica)\n",
        "model_2 = MLPClassifier(hidden_layer_sizes=(40,20), max_iter = 1000, activation = 'tanh', solver = 'adam', tol = 0.0000001, random_state = 3);\n",
        "\n",
        "# 3ª topologia utilizando a função de ativação logistic.\n",
        "model_3 = MLPClassifier(hidden_layer_sizes=(40,20), max_iter = 1000, activation = 'logistic', solver = 'adam', tol = 0.0000001, random_state = 3);\n"
      ],
      "metadata": {
        "id": "gUtRsecLMyyx"
      },
      "id": "gUtRsecLMyyx",
      "execution_count": 19,
      "outputs": []
    },
    {
      "cell_type": "markdown",
      "id": "72733a5d",
      "metadata": {
        "id": "72733a5d"
      },
      "source": [
        "### 5 Validação do modelo da RNA-MLP proposta:"
      ]
    },
    {
      "cell_type": "markdown",
      "source": [
        "#### 5.1 Processo de treinamento e teste dos modelos através dos ``folds``"
      ],
      "metadata": {
        "id": "duPzoofNdVk8"
      },
      "id": "duPzoofNdVk8"
    },
    {
      "cell_type": "code",
      "execution_count": 24,
      "id": "92ea9a17",
      "metadata": {
        "id": "92ea9a17"
      },
      "outputs": [],
      "source": [
        "def train_test_model(modelo, lista):\n",
        "\n",
        "    # treino e teste:\n",
        "    modelo.fit(x_train_fold, y_train_fold);\n",
        "    y_pred_1 = modelo.predict(x_test_fold)\n",
        "    lista.append(modelo.score(x_test_fold, y_test_fold))\n",
        "    \n",
        "    # Imprime as matrizes de confusão para cada treino e teste do fold = k...k-1.\n",
        "    def accuracy(confusion_matrix):\n",
        "      diagonal_sum = confusion_matrix.trace()\n",
        "      sum_of_all_elements = confusion_matrix.sum()\n",
        "      return diagonal_sum / sum_of_all_elements\n",
        "\n",
        "    fig = plot_confusion_matrix(modelo, x_test_fold, y_test_fold, display_labels = modelo.classes_)\n",
        "    fig.figure_.suptitle(\"Matriz de confusão com Stratified Kfold\")\n",
        "    plt.show();\n",
        "\n",
        "# Método que calcula a precisão dos modelos das redes MLP.\n",
        "def results_model(modelo, lista):\n",
        "  # Mostra o resultado das acurácias calculadas pelo modelo.\n",
        "  print(' ------------------- Resultados obtidos do modelo ------------------------------------ \\n')\n",
        "  print('\\nAcurácia média do modelo: {:.2f}%'.format(mean(lista)*100, '%'))\n",
        "  print('---------------------------------------------------------------------------------------\\n')"
      ]
    },
    {
      "cell_type": "markdown",
      "id": "afe79fdc",
      "metadata": {
        "id": "afe79fdc"
      },
      "source": [
        "\n",
        "\n",
        "#### 5.2 Matriz de Confusão e medidas de classificação da MLP"
      ]
    },
    {
      "cell_type": "markdown",
      "source": [
        "##### 5.2.1 **Matrizes de confusão e medidas de acurácia para o modelo 1 com função de ativação ``ReLu``**"
      ],
      "metadata": {
        "id": "-pISxVTy-Tij"
      },
      "id": "-pISxVTy-Tij"
    },
    {
      "cell_type": "code",
      "source": [
        "train_test_model(model_1, mlp_list_1);"
      ],
      "metadata": {
        "id": "T4rJALR45_wO",
        "outputId": "be5728a1-1e91-4657-b0b9-be020ce63643",
        "colab": {
          "base_uri": "https://localhost:8080/",
          "height": 363
        }
      },
      "id": "T4rJALR45_wO",
      "execution_count": 22,
      "outputs": [
        {
          "output_type": "stream",
          "name": "stderr",
          "text": [
            "/usr/local/lib/python3.7/dist-packages/sklearn/utils/deprecation.py:87: FutureWarning: Function plot_confusion_matrix is deprecated; Function `plot_confusion_matrix` is deprecated in 1.0 and will be removed in 1.2. Use one of the class methods: ConfusionMatrixDisplay.from_predictions or ConfusionMatrixDisplay.from_estimator.\n",
            "  warnings.warn(msg, category=FutureWarning)\n"
          ]
        },
        {
          "output_type": "display_data",
          "data": {
            "text/plain": [
              "<Figure size 432x288 with 2 Axes>"
            ],
            "image/png": "[encoded data removed]"
          },
          "metadata": {
            "needs_background": "light"
          }
        }
      ]
    },
    {
      "cell_type": "code",
      "source": [
        "results_model(model_1, mlp_list_1);"
      ],
      "metadata": {
        "id": "y5ocIbn8_QQh",
        "outputId": "f08bc3a3-ec4d-4945-e211-2a2713839f56",
        "colab": {
          "base_uri": "https://localhost:8080/"
        }
      },
      "id": "y5ocIbn8_QQh",
      "execution_count": 23,
      "outputs": [
        {
          "output_type": "stream",
          "name": "stdout",
          "text": [
            " ------------------- Resultados obtidos do modelo ------------------------------------ \n",
            "\n",
            "\n",
            "Acurácia média do modelo: 75.14%\n",
            "-----------------------------------------------------------------------------------------------------------------------------------\n",
            "\n"
          ]
        }
      ]
    },
    {
      "cell_type": "markdown",
      "source": [
        "##### 5.2.2 **Matrizes de confusão e medidas de acurácia para o modelo 2 com função de ativação ``tanh``**"
      ],
      "metadata": {
        "id": "xeWB2cVU-j1i"
      },
      "id": "xeWB2cVU-j1i"
    },
    {
      "cell_type": "code",
      "source": [
        "train_test_model(model_2, mlp_list_2);"
      ],
      "metadata": {
        "id": "zbMlxAlD-tZ6",
        "outputId": "6dfcad0e-dadf-4879-b1a8-79646d387525",
        "colab": {
          "base_uri": "https://localhost:8080/",
          "height": 363
        }
      },
      "id": "zbMlxAlD-tZ6",
      "execution_count": 25,
      "outputs": [
        {
          "output_type": "stream",
          "name": "stderr",
          "text": [
            "/usr/local/lib/python3.7/dist-packages/sklearn/utils/deprecation.py:87: FutureWarning: Function plot_confusion_matrix is deprecated; Function `plot_confusion_matrix` is deprecated in 1.0 and will be removed in 1.2. Use one of the class methods: ConfusionMatrixDisplay.from_predictions or ConfusionMatrixDisplay.from_estimator.\n",
            "  warnings.warn(msg, category=FutureWarning)\n"
          ]
        },
        {
          "output_type": "display_data",
          "data": {
            "text/plain": [
              "<Figure size 432x288 with 2 Axes>"
            ],
            "image/png": "[encoded data removed]"
          },
          "metadata": {
            "needs_background": "light"
          }
        }
      ]
    },
    {
      "cell_type": "code",
      "source": [
        "results_model(model_2, mlp_list_2);"
      ],
      "metadata": {
        "id": "ZPJqfk4w9YpM",
        "outputId": "9cae269b-5861-4fd6-f1b7-f30d78b8c044",
        "colab": {
          "base_uri": "https://localhost:8080/"
        }
      },
      "id": "ZPJqfk4w9YpM",
      "execution_count": 26,
      "outputs": [
        {
          "output_type": "stream",
          "name": "stdout",
          "text": [
            " ------------------- Resultados obtidos do modelo ------------------------------------ \n",
            "\n",
            "\n",
            "Acurácia média do modelo: 76.16%\n",
            "---------------------------------------------------------------------------------------\n",
            "\n"
          ]
        }
      ]
    },
    {
      "cell_type": "markdown",
      "source": [
        "##### 5.2.3 **Matrizes de confusão e medidas de acurárica para o modelo 3 com função de ativação ``logistic``**"
      ],
      "metadata": {
        "id": "rjO5krfH-wJe"
      },
      "id": "rjO5krfH-wJe"
    },
    {
      "cell_type": "code",
      "source": [
        "train_test_model(model_3, mlp_list_3);"
      ],
      "metadata": {
        "id": "P9ylB5VH-47g",
        "outputId": "635017da-e25f-4b80-f2c3-27df98628d4a",
        "colab": {
          "base_uri": "https://localhost:8080/",
          "height": 363
        }
      },
      "id": "P9ylB5VH-47g",
      "execution_count": 27,
      "outputs": [
        {
          "output_type": "stream",
          "name": "stderr",
          "text": [
            "/usr/local/lib/python3.7/dist-packages/sklearn/utils/deprecation.py:87: FutureWarning: Function plot_confusion_matrix is deprecated; Function `plot_confusion_matrix` is deprecated in 1.0 and will be removed in 1.2. Use one of the class methods: ConfusionMatrixDisplay.from_predictions or ConfusionMatrixDisplay.from_estimator.\n",
            "  warnings.warn(msg, category=FutureWarning)\n"
          ]
        },
        {
          "output_type": "display_data",
          "data": {
            "text/plain": [
              "<Figure size 432x288 with 2 Axes>"
            ],
            "image/png": "[encoded data removed]"
          },
          "metadata": {
            "needs_background": "light"
          }
        }
      ]
    },
    {
      "cell_type": "code",
      "source": [
        "results_model(model_3, mlp_list_3);"
      ],
      "metadata": {
        "id": "5LfGaE73_nOc",
        "outputId": "00e2afb7-b506-4105-b0f8-be6ba67c6f8c",
        "colab": {
          "base_uri": "https://localhost:8080/"
        }
      },
      "id": "5LfGaE73_nOc",
      "execution_count": 28,
      "outputs": [
        {
          "output_type": "stream",
          "name": "stdout",
          "text": [
            " ------------------- Resultados obtidos do modelo ------------------------------------ \n",
            "\n",
            "\n",
            "Acurácia média do modelo: 74.80%\n",
            "---------------------------------------------------------------------------------------\n",
            "\n"
          ]
        }
      ]
    },
    {
      "cell_type": "markdown",
      "id": "fbbb058c",
      "metadata": {
        "id": "fbbb058c"
      },
      "source": [
        "#### 5.3 Plotando a curva da perda por interação:"
      ]
    },
    {
      "cell_type": "code",
      "execution_count": 29,
      "id": "aaa6b77d",
      "metadata": {
        "id": "aaa6b77d"
      },
      "outputs": [],
      "source": [
        "# Função de plota a curva da perda por interação de acordo com a especificação do modelo.\n",
        "def loss_curve(modelo):\n",
        "  loss_values = modelo.loss_curve_\n",
        "\n",
        "  plt.plot(loss_values)\n",
        "  plt.title(\"Loss Curve\", fontsize=14)\n",
        "  plt.xlabel('Interações')\n",
        "  plt.ylabel('Custo')\n",
        "  plt.show();"
      ]
    },
    {
      "cell_type": "markdown",
      "source": [
        "##### 5.4.1 **Resultado da curva para o modelo 1**"
      ],
      "metadata": {
        "id": "zlqhvCm4AQCy"
      },
      "id": "zlqhvCm4AQCy"
    },
    {
      "cell_type": "code",
      "source": [
        "loss_curve(model_1);"
      ],
      "metadata": {
        "id": "fdg3la6wALIe",
        "outputId": "7abff6a5-f4cb-4302-d468-d11c81d37a21",
        "colab": {
          "base_uri": "https://localhost:8080/",
          "height": 296
        }
      },
      "id": "fdg3la6wALIe",
      "execution_count": 30,
      "outputs": [
        {
          "output_type": "display_data",
          "data": {
            "text/plain": [
              "<Figure size 432x288 with 1 Axes>"
            ],
            "image/png": "[encoded data removed]"
          },
          "metadata": {
            "needs_background": "light"
          }
        }
      ]
    },
    {
      "cell_type": "markdown",
      "source": [
        "##### 5.4.2 **Resultado da curva para o modelo 2**"
      ],
      "metadata": {
        "id": "3HtaGpV1AXaz"
      },
      "id": "3HtaGpV1AXaz"
    },
    {
      "cell_type": "code",
      "source": [
        "loss_curve(model_2);"
      ],
      "metadata": {
        "id": "RZbnMzMCAaMS",
        "outputId": "67cca36b-ebea-4081-97d6-ef797a25e732",
        "colab": {
          "base_uri": "https://localhost:8080/",
          "height": 296
        }
      },
      "id": "RZbnMzMCAaMS",
      "execution_count": 31,
      "outputs": [
        {
          "output_type": "display_data",
          "data": {
            "text/plain": [
              "<Figure size 432x288 with 1 Axes>"
            ],
            "image/png": "[encoded data removed]"
          },
          "metadata": {
            "needs_background": "light"
          }
        }
      ]
    },
    {
      "cell_type": "markdown",
      "source": [
        "##### 5.4.3 **Resultado da curva para o modelo 3**"
      ],
      "metadata": {
        "id": "Rgt9xnyRAapJ"
      },
      "id": "Rgt9xnyRAapJ"
    },
    {
      "cell_type": "code",
      "source": [
        "loss_curve(model_3);"
      ],
      "metadata": {
        "id": "8vd7fBL-AeEO",
        "outputId": "492e6c6d-fa33-412a-a5b4-09f9e1475484",
        "colab": {
          "base_uri": "https://localhost:8080/",
          "height": 296
        }
      },
      "id": "8vd7fBL-AeEO",
      "execution_count": 32,
      "outputs": [
        {
          "output_type": "display_data",
          "data": {
            "text/plain": [
              "<Figure size 432x288 with 1 Axes>"
            ],
            "image/png": "[encoded data removed]"
          },
          "metadata": {
            "needs_background": "light"
          }
        }
      ]
    }
  ],
  "metadata": {
    "kernelspec": {
      "display_name": "Python 3 (ipykernel)",
      "language": "python",
      "name": "python3"
    },
    "language_info": {
      "codemirror_mode": {
        "name": "ipython",
        "version": 3
      },
      "file_extension": ".py",
      "mimetype": "text/x-python",
      "name": "python",
      "nbconvert_exporter": "python",
      "pygments_lexer": "ipython3",
      "version": "3.9.13"
    },
    "colab": {
      "provenance": [],
      "include_colab_link": true
    },
    "gpuClass": "standard"
  },
  "nbformat": 4,
  "nbformat_minor": 5
}