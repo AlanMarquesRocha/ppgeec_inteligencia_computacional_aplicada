{
  "cells": [
    {
      "cell_type": "markdown",
      "metadata": {
        "id": "view-in-github",
        "colab_type": "text"
      },
      "source": [
        "<a href=\"https://colab.research.google.com/github/AlanMarquesRocha/t02_ica_rna_mlp_rbf/blob/master/t02_ica_rna_rbf_smote.ipynb\" target=\"_parent\"><img src=\"https://colab.research.google.com/assets/colab-badge.svg\" alt=\"Open In Colab\"/></a>"
      ]
    },
    {
      "cell_type": "markdown",
      "id": "a2961b19",
      "metadata": {
        "id": "a2961b19"
      },
      "source": [
        "\n",
        "### Programa de Pós-Graduação em Engenharia Elétrica e de Computação (PPGEEC)\n",
        "### Ingeligência Computacional Aplicada (ICA)\n",
        "### Trabalho 02 - Redes Neurais Artificiais Perceptron Multicamadas (RNA - MLP) e Redes de Base Radial (RBF)\n",
        "### Base de dados: ``Predict Students' dropout and academic sucess``\n",
        "### Discente: Alan Marques da Rocha (543897)\n",
        "---"
      ]
    },
    {
      "cell_type": "markdown",
      "id": "662ef33a",
      "metadata": {
        "id": "662ef33a"
      },
      "source": [
        "#### O conjunto de dados ``Predict Students' dropout and academic sucess`` contém 4.424 instâncias, 36 atributos e três classes distintas, a saber: ``Dropout``, ``Graduate`` e ``Enrolled``.\n",
        "\n",
        "#### O arquivo está em formato ``.csv`` e pode ser acessado através de um programa de planilhas comum (Excel, calc, Planilhas Google, etc..)\n",
        "\n",
        "#### A base de dados foi dividida em 80% para treino e 20% para teste."
      ]
    },
    {
      "cell_type": "markdown",
      "id": "fe99d28b",
      "metadata": {
        "id": "fe99d28b"
      },
      "source": [
        "\n",
        "\n",
        "# **Implementação da ``Rede Neural Artificial baseada em Função de Base Radial (RBF)``**"
      ]
    },
    {
      "cell_type": "markdown",
      "id": "2bdf86c9",
      "metadata": {
        "id": "2bdf86c9"
      },
      "source": [
        "### 1ª etapa: Importando as bibliotecas necessárias para a implementação do algoritmo"
      ]
    },
    {
      "cell_type": "code",
      "execution_count": null,
      "id": "0031cdd2",
      "metadata": {
        "id": "0031cdd2"
      },
      "outputs": [],
      "source": [
        "# importando as bibliotecas de manipulação de dados\n",
        "import pandas as pd\n",
        "from matplotlib import pyplot as plt\n",
        "import numpy as np\n",
        "\n",
        "# bibliotecas para normalização e balanceamento dos dados\n",
        "from sklearn.preprocessing import MaxAbsScaler\n",
        "from sklearn.model_selection import StratifiedKFold\n",
        "from statistics import mean, stdev\n",
        "from sklearn.model_selection import cross_val_score\n",
        "# from imblearn.over_sampling import SMOTE\n",
        "from collections import Counter\n",
        "\n",
        "# biblioteca para divisão do dataset em treino/teste\n",
        "# from sklearn.model_selection import train_test_split\n",
        "\n",
        "# bibliotecas para a implementação da RBF\n",
        "from sklearn.gaussian_process import GaussianProcessClassifier\n",
        "from sklearn.gaussian_process.kernels import RBF\n",
        "\n",
        "# bibliotecas para verificação das métricas da MLP\n",
        "from sklearn.metrics import accuracy_score\n",
        "from sklearn.metrics import plot_confusion_matrix\n",
        "from sklearn.metrics import classification_report\n",
        "from sklearn.model_selection import learning_curve\n",
        "from sklearn.model_selection import GridSearchCV"
      ]
    },
    {
      "cell_type": "markdown",
      "id": "9f4a131e",
      "metadata": {
        "id": "9f4a131e"
      },
      "source": [
        "### 2ª etapa: Abertura da base de dados com ``pandas``\n",
        "\n",
        "#### A coluna ``target`` possui as seguintes informações:\n",
        "\n",
        "- Graduate\n",
        "- Enrolled\n",
        "- Dropout\n",
        "\n",
        "#### Houveram as seguintes modificações nas classes:\n",
        "\n",
        "- Graduate = 1\n",
        "- Enrolled = 0\n",
        "- Dropout = -1"
      ]
    },
    {
      "cell_type": "code",
      "source": [
        "# acessa os arquivos do drive do usuário\n",
        "from google.colab import drive\n",
        "drive.mount('/content/gdrive')\n",
        "\n",
        "# faz uma cópia da pasta para o repositório do drive\n",
        "!cp -R /content/gdrive/MyDrive/cursos/ica_ppgeec/t02_ica_rna_mlp_rbf code/"
      ],
      "metadata": {
        "colab": {
          "base_uri": "https://localhost:8080/"
        },
        "id": "rUe_qjCCbJj1",
        "outputId": "19d0ad62-fb59-4c9f-d5eb-398ba7e61496"
      },
      "id": "rUe_qjCCbJj1",
      "execution_count": null,
      "outputs": [
        {
          "output_type": "stream",
          "name": "stdout",
          "text": [
            "Mounted at /content/gdrive\n"
          ]
        }
      ]
    },
    {
      "cell_type": "code",
      "execution_count": null,
      "id": "ec4e21cb",
      "metadata": {
        "scrolled": true,
        "colab": {
          "base_uri": "https://localhost:8080/",
          "height": 508
        },
        "id": "ec4e21cb",
        "outputId": "33701595-1889-4274-d24a-1af36240e882"
      },
      "outputs": [
        {
          "output_type": "execute_result",
          "data": {
            "text/plain": [
              "   Marital status  Application mode  Application order  Course  \\\n",
              "0               1                17                  5     171   \n",
              "1               1                15                  1    9254   \n",
              "2               1                 1                  5    9070   \n",
              "3               1                17                  2    9773   \n",
              "4               2                39                  1    8014   \n",
              "5               2                39                  1    9991   \n",
              "6               1                 1                  1    9500   \n",
              "7               1                18                  4    9254   \n",
              "8               1                 1                  3    9238   \n",
              "9               1                 1                  1    9238   \n",
              "\n",
              "   Daytime/evening attendance\\t  Previous qualification  \\\n",
              "0                             1                       1   \n",
              "1                             1                       1   \n",
              "2                             1                       1   \n",
              "3                             1                       1   \n",
              "4                             0                       1   \n",
              "5                             0                      19   \n",
              "6                             1                       1   \n",
              "7                             1                       1   \n",
              "8                             1                       1   \n",
              "9                             1                       1   \n",
              "\n",
              "   Previous qualification (grade)  Nacionality  Mother's qualification  \\\n",
              "0                           122.0            1                      19   \n",
              "1                           160.0            1                       1   \n",
              "2                           122.0            1                      37   \n",
              "3                           122.0            1                      38   \n",
              "4                           100.0            1                      37   \n",
              "5                           133.1            1                      37   \n",
              "6                           142.0            1                      19   \n",
              "7                           119.0            1                      37   \n",
              "8                           137.0           62                       1   \n",
              "9                           138.0            1                       1   \n",
              "\n",
              "   Father's qualification  ...  \\\n",
              "0                      12  ...   \n",
              "1                       3  ...   \n",
              "2                      37  ...   \n",
              "3                      37  ...   \n",
              "4                      38  ...   \n",
              "5                      37  ...   \n",
              "6                      38  ...   \n",
              "7                      37  ...   \n",
              "8                       1  ...   \n",
              "9                      19  ...   \n",
              "\n",
              "   Curricular units 1st sem (without evaluations)  \\\n",
              "0                                               0   \n",
              "1                                               0   \n",
              "2                                               0   \n",
              "3                                               0   \n",
              "4                                               0   \n",
              "5                                               0   \n",
              "6                                               0   \n",
              "7                                               0   \n",
              "8                                               0   \n",
              "9                                               0   \n",
              "\n",
              "   Curricular units 2nd sem (credited)  Curricular units 2nd sem (enrolled)  \\\n",
              "0                                    0                                    0   \n",
              "1                                    0                                    6   \n",
              "2                                    0                                    6   \n",
              "3                                    0                                    6   \n",
              "4                                    0                                    6   \n",
              "5                                    0                                    5   \n",
              "6                                    0                                    8   \n",
              "7                                    0                                    5   \n",
              "8                                    0                                    6   \n",
              "9                                    0                                    6   \n",
              "\n",
              "   Curricular units 2nd sem (evaluations)  \\\n",
              "0                                       0   \n",
              "1                                       6   \n",
              "2                                       0   \n",
              "3                                      10   \n",
              "4                                       6   \n",
              "5                                      17   \n",
              "6                                       8   \n",
              "7                                       5   \n",
              "8                                       7   \n",
              "9                                      14   \n",
              "\n",
              "   Curricular units 2nd sem (approved)  \\\n",
              "0                                    0   \n",
              "1                                    6   \n",
              "2                                    0   \n",
              "3                                    5   \n",
              "4                                    6   \n",
              "5                                    5   \n",
              "6                                    8   \n",
              "7                                    0   \n",
              "8                                    6   \n",
              "9                                    2   \n",
              "\n",
              "   Curricular units 2nd sem (without evaluations)  Unemployment rate  \\\n",
              "0                                               0               10.8   \n",
              "1                                               0               13.9   \n",
              "2                                               0               10.8   \n",
              "3                                               0                9.4   \n",
              "4                                               0               13.9   \n",
              "5                                               5               16.2   \n",
              "6                                               0               15.5   \n",
              "7                                               0               15.5   \n",
              "8                                               0               16.2   \n",
              "9                                               0                8.9   \n",
              "\n",
              "   Inflation rate   GDP  Target  \n",
              "0             1.4  1.74      -1  \n",
              "1            -0.3  0.79       1  \n",
              "2             1.4  1.74      -1  \n",
              "3            -0.8 -3.12       1  \n",
              "4            -0.3  0.79       1  \n",
              "5             0.3 -0.92       1  \n",
              "6             2.8 -4.06       1  \n",
              "7             2.8 -4.06      -1  \n",
              "8             0.3 -0.92       1  \n",
              "9             1.4  3.51      -1  \n",
              "\n",
              "[10 rows x 35 columns]"
            ],
            "text/html": [
              "\n",
              "  <div id=\"df-a84c5b8c-cdf7-4f71-8d14-db2c51a08680\">\n",
              "    <div class=\"colab-df-container\">\n",
              "      <div>\n",
              "<style scoped>\n",
              "    .dataframe tbody tr th:only-of-type {\n",
              "        vertical-align: middle;\n",
              "    }\n",
              "\n",
              "    .dataframe tbody tr th {\n",
              "        vertical-align: top;\n",
              "    }\n",
              "\n",
              "    .dataframe thead th {\n",
              "        text-align: right;\n",
              "    }\n",
              "</style>\n",
              "<table border=\"1\" class=\"dataframe\">\n",
              "  <thead>\n",
              "    <tr style=\"text-align: right;\">\n",
              "      <th></th>\n",
              "      <th>Marital status</th>\n",
              "      <th>Application mode</th>\n",
              "      <th>Application order</th>\n",
              "      <th>Course</th>\n",
              "      <th>Daytime/evening attendance\\t</th>\n",
              "      <th>Previous qualification</th>\n",
              "      <th>Previous qualification (grade)</th>\n",
              "      <th>Nacionality</th>\n",
              "      <th>Mother's qualification</th>\n",
              "      <th>Father's qualification</th>\n",
              "      <th>...</th>\n",
              "      <th>Curricular units 1st sem (without evaluations)</th>\n",
              "      <th>Curricular units 2nd sem (credited)</th>\n",
              "      <th>Curricular units 2nd sem (enrolled)</th>\n",
              "      <th>Curricular units 2nd sem (evaluations)</th>\n",
              "      <th>Curricular units 2nd sem (approved)</th>\n",
              "      <th>Curricular units 2nd sem (without evaluations)</th>\n",
              "      <th>Unemployment rate</th>\n",
              "      <th>Inflation rate</th>\n",
              "      <th>GDP</th>\n",
              "      <th>Target</th>\n",
              "    </tr>\n",
              "  </thead>\n",
              "  <tbody>\n",
              "    <tr>\n",
              "      <th>0</th>\n",
              "      <td>1</td>\n",
              "      <td>17</td>\n",
              "      <td>5</td>\n",
              "      <td>171</td>\n",
              "      <td>1</td>\n",
              "      <td>1</td>\n",
              "      <td>122.0</td>\n",
              "      <td>1</td>\n",
              "      <td>19</td>\n",
              "      <td>12</td>\n",
              "      <td>...</td>\n",
              "      <td>0</td>\n",
              "      <td>0</td>\n",
              "      <td>0</td>\n",
              "      <td>0</td>\n",
              "      <td>0</td>\n",
              "      <td>0</td>\n",
              "      <td>10.8</td>\n",
              "      <td>1.4</td>\n",
              "      <td>1.74</td>\n",
              "      <td>-1</td>\n",
              "    </tr>\n",
              "    <tr>\n",
              "      <th>1</th>\n",
              "      <td>1</td>\n",
              "      <td>15</td>\n",
              "      <td>1</td>\n",
              "      <td>9254</td>\n",
              "      <td>1</td>\n",
              "      <td>1</td>\n",
              "      <td>160.0</td>\n",
              "      <td>1</td>\n",
              "      <td>1</td>\n",
              "      <td>3</td>\n",
              "      <td>...</td>\n",
              "      <td>0</td>\n",
              "      <td>0</td>\n",
              "      <td>6</td>\n",
              "      <td>6</td>\n",
              "      <td>6</td>\n",
              "      <td>0</td>\n",
              "      <td>13.9</td>\n",
              "      <td>-0.3</td>\n",
              "      <td>0.79</td>\n",
              "      <td>1</td>\n",
              "    </tr>\n",
              "    <tr>\n",
              "      <th>2</th>\n",
              "      <td>1</td>\n",
              "      <td>1</td>\n",
              "      <td>5</td>\n",
              "      <td>9070</td>\n",
              "      <td>1</td>\n",
              "      <td>1</td>\n",
              "      <td>122.0</td>\n",
              "      <td>1</td>\n",
              "      <td>37</td>\n",
              "      <td>37</td>\n",
              "      <td>...</td>\n",
              "      <td>0</td>\n",
              "      <td>0</td>\n",
              "      <td>6</td>\n",
              "      <td>0</td>\n",
              "      <td>0</td>\n",
              "      <td>0</td>\n",
              "      <td>10.8</td>\n",
              "      <td>1.4</td>\n",
              "      <td>1.74</td>\n",
              "      <td>-1</td>\n",
              "    </tr>\n",
              "    <tr>\n",
              "      <th>3</th>\n",
              "      <td>1</td>\n",
              "      <td>17</td>\n",
              "      <td>2</td>\n",
              "      <td>9773</td>\n",
              "      <td>1</td>\n",
              "      <td>1</td>\n",
              "      <td>122.0</td>\n",
              "      <td>1</td>\n",
              "      <td>38</td>\n",
              "      <td>37</td>\n",
              "      <td>...</td>\n",
              "      <td>0</td>\n",
              "      <td>0</td>\n",
              "      <td>6</td>\n",
              "      <td>10</td>\n",
              "      <td>5</td>\n",
              "      <td>0</td>\n",
              "      <td>9.4</td>\n",
              "      <td>-0.8</td>\n",
              "      <td>-3.12</td>\n",
              "      <td>1</td>\n",
              "    </tr>\n",
              "    <tr>\n",
              "      <th>4</th>\n",
              "      <td>2</td>\n",
              "      <td>39</td>\n",
              "      <td>1</td>\n",
              "      <td>8014</td>\n",
              "      <td>0</td>\n",
              "      <td>1</td>\n",
              "      <td>100.0</td>\n",
              "      <td>1</td>\n",
              "      <td>37</td>\n",
              "      <td>38</td>\n",
              "      <td>...</td>\n",
              "      <td>0</td>\n",
              "      <td>0</td>\n",
              "      <td>6</td>\n",
              "      <td>6</td>\n",
              "      <td>6</td>\n",
              "      <td>0</td>\n",
              "      <td>13.9</td>\n",
              "      <td>-0.3</td>\n",
              "      <td>0.79</td>\n",
              "      <td>1</td>\n",
              "    </tr>\n",
              "    <tr>\n",
              "      <th>5</th>\n",
              "      <td>2</td>\n",
              "      <td>39</td>\n",
              "      <td>1</td>\n",
              "      <td>9991</td>\n",
              "      <td>0</td>\n",
              "      <td>19</td>\n",
              "      <td>133.1</td>\n",
              "      <td>1</td>\n",
              "      <td>37</td>\n",
              "      <td>37</td>\n",
              "      <td>...</td>\n",
              "      <td>0</td>\n",
              "      <td>0</td>\n",
              "      <td>5</td>\n",
              "      <td>17</td>\n",
              "      <td>5</td>\n",
              "      <td>5</td>\n",
              "      <td>16.2</td>\n",
              "      <td>0.3</td>\n",
              "      <td>-0.92</td>\n",
              "      <td>1</td>\n",
              "    </tr>\n",
              "    <tr>\n",
              "      <th>6</th>\n",
              "      <td>1</td>\n",
              "      <td>1</td>\n",
              "      <td>1</td>\n",
              "      <td>9500</td>\n",
              "      <td>1</td>\n",
              "      <td>1</td>\n",
              "      <td>142.0</td>\n",
              "      <td>1</td>\n",
              "      <td>19</td>\n",
              "      <td>38</td>\n",
              "      <td>...</td>\n",
              "      <td>0</td>\n",
              "      <td>0</td>\n",
              "      <td>8</td>\n",
              "      <td>8</td>\n",
              "      <td>8</td>\n",
              "      <td>0</td>\n",
              "      <td>15.5</td>\n",
              "      <td>2.8</td>\n",
              "      <td>-4.06</td>\n",
              "      <td>1</td>\n",
              "    </tr>\n",
              "    <tr>\n",
              "      <th>7</th>\n",
              "      <td>1</td>\n",
              "      <td>18</td>\n",
              "      <td>4</td>\n",
              "      <td>9254</td>\n",
              "      <td>1</td>\n",
              "      <td>1</td>\n",
              "      <td>119.0</td>\n",
              "      <td>1</td>\n",
              "      <td>37</td>\n",
              "      <td>37</td>\n",
              "      <td>...</td>\n",
              "      <td>0</td>\n",
              "      <td>0</td>\n",
              "      <td>5</td>\n",
              "      <td>5</td>\n",
              "      <td>0</td>\n",
              "      <td>0</td>\n",
              "      <td>15.5</td>\n",
              "      <td>2.8</td>\n",
              "      <td>-4.06</td>\n",
              "      <td>-1</td>\n",
              "    </tr>\n",
              "    <tr>\n",
              "      <th>8</th>\n",
              "      <td>1</td>\n",
              "      <td>1</td>\n",
              "      <td>3</td>\n",
              "      <td>9238</td>\n",
              "      <td>1</td>\n",
              "      <td>1</td>\n",
              "      <td>137.0</td>\n",
              "      <td>62</td>\n",
              "      <td>1</td>\n",
              "      <td>1</td>\n",
              "      <td>...</td>\n",
              "      <td>0</td>\n",
              "      <td>0</td>\n",
              "      <td>6</td>\n",
              "      <td>7</td>\n",
              "      <td>6</td>\n",
              "      <td>0</td>\n",
              "      <td>16.2</td>\n",
              "      <td>0.3</td>\n",
              "      <td>-0.92</td>\n",
              "      <td>1</td>\n",
              "    </tr>\n",
              "    <tr>\n",
              "      <th>9</th>\n",
              "      <td>1</td>\n",
              "      <td>1</td>\n",
              "      <td>1</td>\n",
              "      <td>9238</td>\n",
              "      <td>1</td>\n",
              "      <td>1</td>\n",
              "      <td>138.0</td>\n",
              "      <td>1</td>\n",
              "      <td>1</td>\n",
              "      <td>19</td>\n",
              "      <td>...</td>\n",
              "      <td>0</td>\n",
              "      <td>0</td>\n",
              "      <td>6</td>\n",
              "      <td>14</td>\n",
              "      <td>2</td>\n",
              "      <td>0</td>\n",
              "      <td>8.9</td>\n",
              "      <td>1.4</td>\n",
              "      <td>3.51</td>\n",
              "      <td>-1</td>\n",
              "    </tr>\n",
              "  </tbody>\n",
              "</table>\n",
              "<p>10 rows × 35 columns</p>\n",
              "</div>\n",
              "      <button class=\"colab-df-convert\" onclick=\"convertToInteractive('df-a84c5b8c-cdf7-4f71-8d14-db2c51a08680')\"\n",
              "              title=\"Convert this dataframe to an interactive table.\"\n",
              "              style=\"display:none;\">\n",
              "        \n",
              "  <svg xmlns=\"http://www.w3.org/2000/svg\" height=\"24px\"viewBox=\"0 0 24 24\"\n",
              "       width=\"24px\">\n",
              "    <path d=\"M0 0h24v24H0V0z\" fill=\"none\"/>\n",
              "    <path d=\"M18.56 5.44l.94 2.06.94-2.06 2.06-.94-2.06-.94-.94-2.06-.94 2.06-2.06.94zm-11 1L8.5 8.5l.94-2.06 2.06-.94-2.06-.94L8.5 2.5l-.94 2.06-2.06.94zm10 10l.94 2.06.94-2.06 2.06-.94-2.06-.94-.94-2.06-.94 2.06-2.06.94z\"/><path d=\"M17.41 7.96l-1.37-1.37c-.4-.4-.92-.59-1.43-.59-.52 0-1.04.2-1.43.59L10.3 9.45l-7.72 7.72c-.78.78-.78 2.05 0 2.83L4 21.41c.39.39.9.59 1.41.59.51 0 1.02-.2 1.41-.59l7.78-7.78 2.81-2.81c.8-.78.8-2.07 0-2.86zM5.41 20L4 18.59l7.72-7.72 1.47 1.35L5.41 20z\"/>\n",
              "  </svg>\n",
              "      </button>\n",
              "      \n",
              "  <style>\n",
              "    .colab-df-container {\n",
              "      display:flex;\n",
              "      flex-wrap:wrap;\n",
              "      gap: 12px;\n",
              "    }\n",
              "\n",
              "    .colab-df-convert {\n",
              "      background-color: #E8F0FE;\n",
              "      border: none;\n",
              "      border-radius: 50%;\n",
              "      cursor: pointer;\n",
              "      display: none;\n",
              "      fill: #1967D2;\n",
              "      height: 32px;\n",
              "      padding: 0 0 0 0;\n",
              "      width: 32px;\n",
              "    }\n",
              "\n",
              "    .colab-df-convert:hover {\n",
              "      background-color: #E2EBFA;\n",
              "      box-shadow: 0px 1px 2px rgba(60, 64, 67, 0.3), 0px 1px 3px 1px rgba(60, 64, 67, 0.15);\n",
              "      fill: #174EA6;\n",
              "    }\n",
              "\n",
              "    [theme=dark] .colab-df-convert {\n",
              "      background-color: #3B4455;\n",
              "      fill: #D2E3FC;\n",
              "    }\n",
              "\n",
              "    [theme=dark] .colab-df-convert:hover {\n",
              "      background-color: #434B5C;\n",
              "      box-shadow: 0px 1px 3px 1px rgba(0, 0, 0, 0.15);\n",
              "      filter: drop-shadow(0px 1px 2px rgba(0, 0, 0, 0.3));\n",
              "      fill: #FFFFFF;\n",
              "    }\n",
              "  </style>\n",
              "\n",
              "      <script>\n",
              "        const buttonEl =\n",
              "          document.querySelector('#df-a84c5b8c-cdf7-4f71-8d14-db2c51a08680 button.colab-df-convert');\n",
              "        buttonEl.style.display =\n",
              "          google.colab.kernel.accessAllowed ? 'block' : 'none';\n",
              "\n",
              "        async function convertToInteractive(key) {\n",
              "          const element = document.querySelector('#df-a84c5b8c-cdf7-4f71-8d14-db2c51a08680');\n",
              "          const dataTable =\n",
              "            await google.colab.kernel.invokeFunction('convertToInteractive',\n",
              "                                                     [key], {});\n",
              "          if (!dataTable) return;\n",
              "\n",
              "          const docLinkHtml = 'Like what you see? Visit the ' +\n",
              "            '<a target=\"_blank\" href=https://colab.research.google.com/notebooks/data_table.ipynb>data table notebook</a>'\n",
              "            + ' to learn more about interactive tables.';\n",
              "          element.innerHTML = '';\n",
              "          dataTable['output_type'] = 'display_data';\n",
              "          await google.colab.output.renderOutput(dataTable, element);\n",
              "          const docLink = document.createElement('div');\n",
              "          docLink.innerHTML = docLinkHtml;\n",
              "          element.appendChild(docLink);\n",
              "        }\n",
              "      </script>\n",
              "    </div>\n",
              "  </div>\n",
              "  "
            ]
          },
          "metadata": {},
          "execution_count": 3
        }
      ],
      "source": [
        "# Abrindo o arquivo diretamento do diretório:\n",
        "data = pd.read_csv('/content/code/data.csv', sep=';')\n",
        "\n",
        "# mostra as 10 primeiras linhas do dataset\n",
        "data.head(10)"
      ]
    },
    {
      "cell_type": "markdown",
      "id": "83481d78",
      "metadata": {
        "id": "83481d78"
      },
      "source": [
        "### **3ª etapa: Pré-Processamento dos Dados:**"
      ]
    },
    {
      "cell_type": "markdown",
      "id": "4d7d9f66",
      "metadata": {
        "id": "4d7d9f66"
      },
      "source": [
        "#### Definindo o conjunto de atributos/instâncias e suas respectivas classes:"
      ]
    },
    {
      "cell_type": "code",
      "execution_count": null,
      "id": "96297bae",
      "metadata": {
        "id": "96297bae"
      },
      "outputs": [],
      "source": [
        "# definindo os atributos do dataset:\n",
        "X = data.drop(['Target'], axis = 1)\n",
        "\n",
        "# definindo as classes:\n",
        "y = data.Target"
      ]
    },
    {
      "cell_type": "markdown",
      "source": [
        "#### 3.1 Algumas informações do dataset"
      ],
      "metadata": {
        "id": "NJvKbkpkYijd"
      },
      "id": "NJvKbkpkYijd"
    },
    {
      "cell_type": "code",
      "execution_count": null,
      "id": "d34b2faa",
      "metadata": {
        "colab": {
          "base_uri": "https://localhost:8080/"
        },
        "id": "d34b2faa",
        "outputId": "a0458cdd-0984-4907-f916-b9cc5c06a80b"
      },
      "outputs": [
        {
          "output_type": "execute_result",
          "data": {
            "text/plain": [
              " 1    2209\n",
              "-1    1421\n",
              " 0     794\n",
              "Name: Target, dtype: int64"
            ]
          },
          "metadata": {},
          "execution_count": 9
        }
      ],
      "source": [
        "# Informa o n° presente de cada classe no dataset:\n",
        "data['Target'].value_counts()\n",
        "\n"
      ]
    },
    {
      "cell_type": "code",
      "source": [
        "print('As classes encontram-se desbalanceadas!!')"
      ],
      "metadata": {
        "id": "7BQudTwF6jak",
        "outputId": "b498bd4a-ffed-49ee-ddd8-004a34f58ccf",
        "colab": {
          "base_uri": "https://localhost:8080/"
        }
      },
      "id": "7BQudTwF6jak",
      "execution_count": null,
      "outputs": [
        {
          "output_type": "stream",
          "name": "stdout",
          "text": [
            "As classes encontram-se desbalanceadas!!\n"
          ]
        }
      ]
    },
    {
      "cell_type": "code",
      "source": [
        "# Área que plota-se o gráfico e define-se o seu tamanho\n",
        "fig, ax = plt.subplots(figsize=(6, 6), subplot_kw = dict(aspect=\"equal\"))\n",
        "\n",
        "# Informações das classes\n",
        "recipe = [\"Graduate\",\n",
        "          \"Enrolled\",\n",
        "          \"Dropout\"]\n",
        "\n",
        "# Informa-se a quantidade dos dados\n",
        "data_class = [2209, 794, 1421]\n",
        "\n",
        "# Mostra a porcentagem de cada classe no dataset\n",
        "def func(pct, allvals):\n",
        "    # calc %\n",
        "    absolute = int(pct/100.*np.sum(allvals))\n",
        "    # fazendo legenda do gráfico\n",
        "    return \"{:.1f}%\\n({:d})\".format(pct, absolute)\n",
        "\n",
        "# Criando o gráfico e colocando a função da legenda interna\n",
        "wedges, texts, autotexts = ax.pie(data_class, autopct = lambda pct: func(pct, data_class),\n",
        "                                  textprops=dict(color = \"w\"))\n",
        "\n",
        "# Definindo a caixa de legenda externa, título, localização e onde vai 'ancorar o box'\n",
        "ax.legend(wedges, recipe,\n",
        "          title=\"Classes\",\n",
        "          loc=\"center left\",\n",
        "          bbox_to_anchor=(1, 0, 0.5, 1))\n",
        "\n",
        "# Aqui definimos o tamanho do texto de dentro do gráfico, e o peso da fonte como bold\n",
        "plt.setp(autotexts, size=12, weight=\"bold\")\n",
        "\n",
        "# Título do gráfico\n",
        "ax.set_title(\"Divisão das classes no dataset\")\n",
        "\n",
        "# Mostrando o gráfico\n",
        "plt.show()"
      ],
      "metadata": {
        "colab": {
          "base_uri": "https://localhost:8080/",
          "height": 373
        },
        "id": "yn6r_-jJYrwf",
        "outputId": "b2dbfa39-bddb-42f4-de5c-ed391f5306b8"
      },
      "id": "yn6r_-jJYrwf",
      "execution_count": null,
      "outputs": [
        {
          "output_type": "display_data",
          "data": {
            "text/plain": [
              "<Figure size 432x432 with 1 Axes>"
            ],
            "image/png": "[encoded data removed]"
          },
          "metadata": {}
        }
      ]
    },
    {
      "cell_type": "markdown",
      "source": [
        "#### 3.2 Manipulação dos dados para retirada do desequilíbrio das classes com SMOTE (técnica de sobreamostragem minoritária sintética)"
      ],
      "metadata": {
        "id": "RcdO5pPmGlgL"
      },
      "id": "RcdO5pPmGlgL"
    },
    {
      "cell_type": "code",
      "source": [
        "X_resampled, Y_resampled = SMOTE().fit_resample(X, y)\n",
        "\n",
        "# Mostra a quantidade de cada classee após a retirada do desequilíbrio.\n",
        "print('Classes: ', sorted(Counter(Y_resampled).items()))\n",
        "\n",
        "print('Dimensões do novo dataset: ', X_resampled.shape)"
      ],
      "metadata": {
        "id": "o4g1gtvUGrAF"
      },
      "id": "o4g1gtvUGrAF",
      "execution_count": null,
      "outputs": []
    },
    {
      "cell_type": "code",
      "source": [
        "# Mostrando os atributos após a retirada do desequilíbrio.\n",
        "X_resampled.head()\n",
        "\n",
        "# Salvando os atributos balanceados em um novo arquivo csv\n",
        "atrib = X_resampled\n",
        "atrib.to_csv('/content/code/atrib.csv')\n",
        "\n",
        "# Salvando as classes balanceadas em um novo arquivo csv\n",
        "Y = Y_resampled\n",
        "Y.to_csv('/content/code/classes.csv')"
      ],
      "metadata": {
        "id": "h3oBIyfaGucN"
      },
      "id": "h3oBIyfaGucN",
      "execution_count": null,
      "outputs": []
    },
    {
      "cell_type": "markdown",
      "source": [
        "##### 3.2.1 Comparação das classes após a aplicação da técnica SMOTE."
      ],
      "metadata": {
        "id": "EEEH-dk1G6xp"
      },
      "id": "EEEH-dk1G6xp"
    },
    {
      "cell_type": "code",
      "source": [
        "# quantidade de classes\n",
        "grupos = 3\n",
        "\n",
        "# valores das classes desquilibradas e equilibradas, respectivamente\n",
        "deseq = (2209, 794, 1421)\n",
        "equi = (2209, 2209, 2209)\n",
        "\n",
        "# configurações do gráfico\n",
        "fig, ax = plt.subplots()\n",
        "indice = np.arange(grupos)\n",
        "bar_larg = 0.2\n",
        "transp = 0.8\n",
        "plt.bar(indice, deseq, bar_larg, alpha = transp, color=\"gray\", label = 'Desquilibrado')\n",
        "plt.bar(indice + bar_larg, equi, bar_larg, alpha = transp, color = \"black\", label = 'Equilibrado')\n",
        "\n",
        "# informações de título, eixo e legendas    \n",
        "plt.xlabel('Classes do dataset') \n",
        "plt.ylabel('Quatidade de instâncias') \n",
        "plt.title('Relação de classes com dataset desequilibrado x equilibrado') \n",
        "plt.xticks(indice + bar_larg, ('Graduate', 'Enrolled', 'Dropout')) \n",
        "plt.legend() \n",
        "plt.tight_layout() \n",
        "plt.show()"
      ],
      "metadata": {
        "id": "QCZgnyQpG_OJ"
      },
      "id": "QCZgnyQpG_OJ",
      "execution_count": null,
      "outputs": []
    },
    {
      "cell_type": "markdown",
      "source": [
        "#### 3.3 Realizando a normalização dos dados antes da validação cruzada dos conjuntos de treino/teste:\n",
        "\n",
        "#### Para padronizar os dados no intervalo (-1, 1), foi utilizado o ``MaxAbsScaler``."
      ],
      "metadata": {
        "id": "8QT6ssVYZ-D9"
      },
      "id": "8QT6ssVYZ-D9"
    },
    {
      "cell_type": "code",
      "source": [
        "# Tipo de normalizador de dados.\n",
        "norm = MaxAbsScaler()\n",
        "\n",
        "scaler = norm.fit(X) # Calcula o máximo de cada atributo\n",
        "\n",
        "# Dados dos atributos normalizados\n",
        "X_norm = scaler.transform(X)\n",
        "\n",
        "X_norm"
      ],
      "metadata": {
        "colab": {
          "base_uri": "https://localhost:8080/"
        },
        "id": "2EVsNJqcaCpN",
        "outputId": "0e38175c-d39c-4d8b-ce31-a8dcc954cd68"
      },
      "id": "2EVsNJqcaCpN",
      "execution_count": null,
      "outputs": [
        {
          "output_type": "execute_result",
          "data": {
            "text/plain": [
              "array([[ 0.16666667,  0.29824561,  0.55555556, ...,  0.66666667,\n",
              "         0.37837838,  0.42857143],\n",
              "       [ 0.16666667,  0.26315789,  0.11111111, ...,  0.85802469,\n",
              "        -0.08108108,  0.19458128],\n",
              "       [ 0.16666667,  0.01754386,  0.55555556, ...,  0.66666667,\n",
              "         0.37837838,  0.42857143],\n",
              "       ...,\n",
              "       [ 0.16666667,  0.01754386,  0.11111111, ...,  0.85802469,\n",
              "        -0.08108108,  0.19458128],\n",
              "       [ 0.16666667,  0.01754386,  0.11111111, ...,  0.58024691,\n",
              "        -0.21621622, -0.76847291],\n",
              "       [ 0.16666667,  0.1754386 ,  0.11111111, ...,  0.78395062,\n",
              "         1.        , -0.41871921]])"
            ]
          },
          "metadata": {},
          "execution_count": 11
        }
      ]
    },
    {
      "cell_type": "markdown",
      "id": "0c75a90c",
      "metadata": {
        "id": "0c75a90c"
      },
      "source": [
        "#### 3.4 Criando o conjunto de treinamento e validação com a função train_test_split"
      ]
    },
    {
      "cell_type": "code",
      "source": [
        "# Com as classes equilibradas, pode-se utilizar o train_test_split para separar o conjunto de treino e validação\n",
        "x_train_fold, x_test_fold, y_train_fold, y_test_fold = train_test_split(X_norm, y, test_size = 0.2)"
      ],
      "metadata": {
        "id": "EeCyiLcUHRyM"
      },
      "id": "EeCyiLcUHRyM",
      "execution_count": null,
      "outputs": []
    },
    {
      "cell_type": "markdown",
      "source": [
        "##### 3.4.1 Criando a lista que armazerará os resultados do modelo"
      ],
      "metadata": {
        "id": "P8NOxn_rHgMs"
      },
      "id": "P8NOxn_rHgMs"
    },
    {
      "cell_type": "code",
      "source": [
        "# lista que receberá as acurácias do modelo MLP\n",
        "rbf_list = []\n"
      ],
      "metadata": {
        "id": "O8JCP7T-lCIV"
      },
      "id": "O8JCP7T-lCIV",
      "execution_count": null,
      "outputs": []
    },
    {
      "cell_type": "markdown",
      "id": "10f13196",
      "metadata": {
        "id": "10f13196"
      },
      "source": [
        "### 4. Construindo a RNA-RBF:\n",
        "\n",
        "#### 4.1 Características da RNA RBF:\n",
        "\n",
        "- ``kernel`` = Se None for passado, o kernel “1.0 * RBF(1.0)”\n",
        "- ``random_state`` = Determina a geração de números aleatórios usados ​​para inicializar os centros\n"
      ]
    },
    {
      "cell_type": "code",
      "source": [
        "# definindo o kernel da rede:\n",
        "kernel_1 = 1.0 * RBF(5.0)\n",
        "\n",
        "# modelo rbf_1 com kernel_1\n",
        "model_rbf = GaussianProcessClassifier(kernel = kernel_1)\n",
        "\n",
        "\n",
        "# definindo o número de neurônios da camada oculta da RBF.\n",
        "n = 40"
      ],
      "metadata": {
        "id": "gUtRsecLMyyx"
      },
      "id": "gUtRsecLMyyx",
      "execution_count": null,
      "outputs": []
    },
    {
      "cell_type": "markdown",
      "id": "72733a5d",
      "metadata": {
        "id": "72733a5d"
      },
      "source": [
        "### 5 Validação do modelo da RNA-RBF proposta:"
      ]
    },
    {
      "cell_type": "markdown",
      "source": [
        "#### 5.1 Processo de treinamento e teste dos modelos através dos ``folds``"
      ],
      "metadata": {
        "id": "duPzoofNdVk8"
      },
      "id": "duPzoofNdVk8"
    },
    {
      "cell_type": "code",
      "execution_count": null,
      "id": "92ea9a17",
      "metadata": {
        "id": "92ea9a17"
      },
      "outputs": [],
      "source": [
        "\n",
        "def train_test_model(modelo, lista):\n",
        "\n",
        "    #pos = np.random.permutation(x_train_fold.shape[0]);\n",
        "    #centroides = x_train_fold[pos[0:n],:];\n",
        "    #classes = y_train_fold[pos[0:n]];\n",
        "\n",
        "    # treino e teste:\n",
        "    modelo.fit(x_train_fold, y_train_fold);\n",
        "    y_pred_1 = modelo.predict(x_test_fold)\n",
        "    lista.append(modelo.score(x_test_fold, y_test_fold))\n",
        "    \n",
        "    # Imprime as matrizes de confusão para cada treino e teste do fold = k...k-1.\n",
        "    def accuracy(confusion_matrix):\n",
        "      diagonal_sum = confusion_matrix.trace()\n",
        "      sum_of_all_elements = confusion_matrix.sum()\n",
        "      return diagonal_sum / sum_of_all_elements\n",
        "\n",
        "    fig = plot_confusion_matrix(modelo, x_test_fold, y_test_fold, display_labels = modelo.classes_)\n",
        "    fig.figure_.suptitle(\"Matriz de confusão com Stratified Kfold\")\n",
        "    plt.show();\n",
        "\n",
        "# Método que calcula a precisão dos modelos das redes MLP.\n",
        "def results_model(modelo, lista):\n",
        "  # Mostra o resultado das acurácias calculadas pelo modelo.\n",
        "  print(' ------------------- Resultados obtidos do modelo ------------------------------------ \\n')\n",
        "  print('\\nAcurácia média do modelo: {:.2f}%'.format(mean(lista)*100, '%'))\n",
        "  print('---------------------------------------------------------------------------------------\\n'))"
      ]
    },
    {
      "cell_type": "markdown",
      "id": "afe79fdc",
      "metadata": {
        "id": "afe79fdc"
      },
      "source": [
        "\n",
        "\n",
        "#### 5.2 Matriz de Confusão e medidas de classificação da MLP"
      ]
    },
    {
      "cell_type": "markdown",
      "source": [
        "##### 5.2.1 **Matrizes de confusão e medidas de acurácia para a rede RBF**"
      ],
      "metadata": {
        "id": "-pISxVTy-Tij"
      },
      "id": "-pISxVTy-Tij"
    },
    {
      "cell_type": "code",
      "source": [
        "train_test_model(model_rbf, rbf_list);"
      ],
      "metadata": {
        "id": "T4rJALR45_wO",
        "outputId": "85ea5e7a-1e2b-405c-de82-de74f29c45b5",
        "colab": {
          "base_uri": "https://localhost:8080/",
          "height": 1000
        }
      },
      "id": "T4rJALR45_wO",
      "execution_count": null,
      "outputs": [
        {
          "metadata": {
            "tags": null
          },
          "name": "stderr",
          "output_type": "stream",
          "text": [
            "/usr/local/lib/python3.8/dist-packages/sklearn/utils/deprecation.py:87: FutureWarning: Function plot_confusion_matrix is deprecated; Function `plot_confusion_matrix` is deprecated in 1.0 and will be removed in 1.2. Use one of the class methods: ConfusionMatrixDisplay.from_predictions or ConfusionMatrixDisplay.from_estimator.\n",
            "  warnings.warn(msg, category=FutureWarning)\n"
          ]
        },
        {
          "data": {
            "image/png": "[encoded data removed]",
            "text/plain": [
              "<Figure size 432x288 with 2 Axes>"
            ]
          },
          "metadata": {},
          "output_type": "display_data"
        },
        {
          "metadata": {
            "tags": null
          },
          "name": "stderr",
          "output_type": "stream",
          "text": [
            "/usr/local/lib/python3.8/dist-packages/sklearn/utils/deprecation.py:87: FutureWarning: Function plot_confusion_matrix is deprecated; Function `plot_confusion_matrix` is deprecated in 1.0 and will be removed in 1.2. Use one of the class methods: ConfusionMatrixDisplay.from_predictions or ConfusionMatrixDisplay.from_estimator.\n",
            "  warnings.warn(msg, category=FutureWarning)\n"
          ]
        },
        {
          "data": {
            "image/png": "[encoded data removed]",
            "text/plain": [
              "<Figure size 432x288 with 2 Axes>"
            ]
          },
          "metadata": {},
          "output_type": "display_data"
        },
        {
          "metadata": {
            "tags": null
          },
          "name": "stderr",
          "output_type": "stream",
          "text": [
            "/usr/local/lib/python3.8/dist-packages/sklearn/utils/deprecation.py:87: FutureWarning: Function plot_confusion_matrix is deprecated; Function `plot_confusion_matrix` is deprecated in 1.0 and will be removed in 1.2. Use one of the class methods: ConfusionMatrixDisplay.from_predictions or ConfusionMatrixDisplay.from_estimator.\n",
            "  warnings.warn(msg, category=FutureWarning)\n"
          ]
        },
        {
          "data": {
            "image/png": "[encoded data removed]",
            "text/plain": [
              "<Figure size 432x288 with 2 Axes>"
            ]
          },
          "metadata": {},
          "output_type": "display_data"
        },
        {
          "output_type": "stream",
          "name": "stderr",
          "text": [
            "/usr/local/lib/python3.8/dist-packages/sklearn/utils/deprecation.py:87: FutureWarning: Function plot_confusion_matrix is deprecated; Function `plot_confusion_matrix` is deprecated in 1.0 and will be removed in 1.2. Use one of the class methods: ConfusionMatrixDisplay.from_predictions or ConfusionMatrixDisplay.from_estimator.\n",
            "  warnings.warn(msg, category=FutureWarning)\n"
          ]
        },
        {
          "output_type": "display_data",
          "data": {
            "text/plain": [
              "<Figure size 432x288 with 2 Axes>"
            ],
            "image/png": "[encoded data removed]"
          },
          "metadata": {
            "needs_background": "light"
          }
        }
      ]
    },
    {
      "cell_type": "code",
      "source": [
        "results_model(model_rbf, rbf_list);"
      ],
      "metadata": {
        "id": "y5ocIbn8_QQh",
        "outputId": "8ad8e6a1-58b5-4665-8310-649c6bcc74f2",
        "colab": {
          "base_uri": "https://localhost:8080/"
        }
      },
      "id": "y5ocIbn8_QQh",
      "execution_count": null,
      "outputs": [
        {
          "output_type": "stream",
          "name": "stdout",
          "text": [
            " ------------------- Resultados obtidos do modelo 1 com função de ativação --------------------- \n",
            "\n",
            "Lista de possíveis acurácias do modelo:  [0.7762711864406779, 0.7740112994350282, 0.7559322033898305, 0.7638418079096045, 0.7579185520361991]\n",
            "\n",
            "Acurácia máxima que pode ser obtida por esse modelo: 77.63%\n",
            "\n",
            "Acurácia mínima: 75.59%\n",
            "\n",
            "Acurácia média do modelo: 76.56%\n",
            "\n",
            "Desvio padrão: 0.00922206900960896\n",
            "-----------------------------------------------------------------------------------------------------------------------------------\n",
            "\n"
          ]
        }
      ]
    }
  ],
  "metadata": {
    "kernelspec": {
      "display_name": "Python 3 (ipykernel)",
      "language": "python",
      "name": "python3"
    },
    "language_info": {
      "codemirror_mode": {
        "name": "ipython",
        "version": 3
      },
      "file_extension": ".py",
      "mimetype": "text/x-python",
      "name": "python",
      "nbconvert_exporter": "python",
      "pygments_lexer": "ipython3",
      "version": "3.9.13"
    },
    "colab": {
      "provenance": [],
      "include_colab_link": true
    },
    "gpuClass": "standard"
  },
  "nbformat": 4,
  "nbformat_minor": 5
}